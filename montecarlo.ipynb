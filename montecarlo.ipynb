{
 "cells": [
  {
   "cell_type": "code",
   "execution_count": 1,
   "metadata": {},
   "outputs": [
    {
     "name": "stdout",
     "output_type": "stream",
     "text": [
      "hello\n"
     ]
    }
   ],
   "source": [
    "import pandas as pd\n",
    "import numpy as np\n",
    "import yfinance as yf\n",
    "import matplotlib.pyplot as plt\n",
    "print(\"hello\")"
   ]
  },
  {
   "cell_type": "code",
   "execution_count": 2,
   "metadata": {},
   "outputs": [
    {
     "name": "stderr",
     "output_type": "stream",
     "text": [
      "/var/folders/y7/hf6140q96774323j7d756khw0000gn/T/ipykernel_6032/232763807.py:4: FutureWarning: YF.download() has changed argument auto_adjust default to True\n",
      "  df=yf.download('SPY',start_date,end_date,threads=True,progress=True)[[\"Close\"]]\n",
      "[*********************100%***********************]  1 of 1 completed\n"
     ]
    }
   ],
   "source": [
    "temp=['AAPL','AMZN','GOOG','MSFT','TSLA']\n",
    "start_date='2015-08-09'\n",
    "end_date='2025-08-09'\n",
    "df=yf.download('SPY',start_date,end_date,threads=True,progress=True)[[\"Close\"]]"
   ]
  },
  {
   "cell_type": "code",
   "execution_count": 3,
   "metadata": {},
   "outputs": [
    {
     "name": "stderr",
     "output_type": "stream",
     "text": [
      "/var/folders/y7/hf6140q96774323j7d756khw0000gn/T/ipykernel_6032/316862407.py:1: FutureWarning: The previous implementation of stack is deprecated and will be removed in a future version of pandas. See the What's New notes for pandas 2.1.0 for details. Specify future_stack=True to adopt the new implementation and silence this warning.\n",
      "  df=df.stack().reset_index()\n"
     ]
    },
    {
     "data": {
      "text/html": [
       "<div>\n",
       "<style scoped>\n",
       "    .dataframe tbody tr th:only-of-type {\n",
       "        vertical-align: middle;\n",
       "    }\n",
       "\n",
       "    .dataframe tbody tr th {\n",
       "        vertical-align: top;\n",
       "    }\n",
       "\n",
       "    .dataframe thead th {\n",
       "        text-align: right;\n",
       "    }\n",
       "</style>\n",
       "<table border=\"1\" class=\"dataframe\">\n",
       "  <thead>\n",
       "    <tr style=\"text-align: right;\">\n",
       "      <th>Price</th>\n",
       "      <th>Date</th>\n",
       "      <th>Ticker</th>\n",
       "      <th>Close</th>\n",
       "      <th>MA_10</th>\n",
       "      <th>MA_30</th>\n",
       "      <th>Signal</th>\n",
       "      <th>Returns</th>\n",
       "      <th>Strategy Returns</th>\n",
       "    </tr>\n",
       "  </thead>\n",
       "  <tbody>\n",
       "    <tr>\n",
       "      <th>29</th>\n",
       "      <td>2015-09-21</td>\n",
       "      <td>SPY</td>\n",
       "      <td>166.471680</td>\n",
       "      <td>166.330356</td>\n",
       "      <td>168.393545</td>\n",
       "      <td>0</td>\n",
       "      <td>0.005168</td>\n",
       "      <td>0.000000</td>\n",
       "    </tr>\n",
       "    <tr>\n",
       "      <th>30</th>\n",
       "      <td>2015-09-22</td>\n",
       "      <td>SPY</td>\n",
       "      <td>164.310928</td>\n",
       "      <td>166.118614</td>\n",
       "      <td>167.953741</td>\n",
       "      <td>0</td>\n",
       "      <td>-0.012980</td>\n",
       "      <td>-0.000000</td>\n",
       "    </tr>\n",
       "    <tr>\n",
       "      <th>31</th>\n",
       "      <td>2015-09-23</td>\n",
       "      <td>SPY</td>\n",
       "      <td>164.048203</td>\n",
       "      <td>166.103145</td>\n",
       "      <td>167.558570</td>\n",
       "      <td>0</td>\n",
       "      <td>-0.001599</td>\n",
       "      <td>-0.000000</td>\n",
       "    </tr>\n",
       "    <tr>\n",
       "      <th>32</th>\n",
       "      <td>2015-09-24</td>\n",
       "      <td>SPY</td>\n",
       "      <td>163.455078</td>\n",
       "      <td>165.939009</td>\n",
       "      <td>167.136602</td>\n",
       "      <td>0</td>\n",
       "      <td>-0.003616</td>\n",
       "      <td>-0.000000</td>\n",
       "    </tr>\n",
       "    <tr>\n",
       "      <th>33</th>\n",
       "      <td>2015-09-25</td>\n",
       "      <td>SPY</td>\n",
       "      <td>163.412674</td>\n",
       "      <td>165.695604</td>\n",
       "      <td>166.720526</td>\n",
       "      <td>0</td>\n",
       "      <td>-0.000259</td>\n",
       "      <td>-0.000000</td>\n",
       "    </tr>\n",
       "    <tr>\n",
       "      <th>...</th>\n",
       "      <td>...</td>\n",
       "      <td>...</td>\n",
       "      <td>...</td>\n",
       "      <td>...</td>\n",
       "      <td>...</td>\n",
       "      <td>...</td>\n",
       "      <td>...</td>\n",
       "      <td>...</td>\n",
       "    </tr>\n",
       "    <tr>\n",
       "      <th>2510</th>\n",
       "      <td>2025-08-04</td>\n",
       "      <td>SPY</td>\n",
       "      <td>631.169983</td>\n",
       "      <td>632.621997</td>\n",
       "      <td>623.947335</td>\n",
       "      <td>0</td>\n",
       "      <td>0.015200</td>\n",
       "      <td>0.000000</td>\n",
       "    </tr>\n",
       "    <tr>\n",
       "      <th>2511</th>\n",
       "      <td>2025-08-05</td>\n",
       "      <td>SPY</td>\n",
       "      <td>627.969971</td>\n",
       "      <td>632.532996</td>\n",
       "      <td>624.874666</td>\n",
       "      <td>0</td>\n",
       "      <td>-0.005070</td>\n",
       "      <td>-0.000000</td>\n",
       "    </tr>\n",
       "    <tr>\n",
       "      <th>2512</th>\n",
       "      <td>2025-08-06</td>\n",
       "      <td>SPY</td>\n",
       "      <td>632.780029</td>\n",
       "      <td>632.389996</td>\n",
       "      <td>625.741333</td>\n",
       "      <td>1</td>\n",
       "      <td>0.007660</td>\n",
       "      <td>0.000000</td>\n",
       "    </tr>\n",
       "    <tr>\n",
       "      <th>2513</th>\n",
       "      <td>2025-08-07</td>\n",
       "      <td>SPY</td>\n",
       "      <td>632.250000</td>\n",
       "      <td>632.172998</td>\n",
       "      <td>626.579000</td>\n",
       "      <td>1</td>\n",
       "      <td>-0.000838</td>\n",
       "      <td>-0.000838</td>\n",
       "    </tr>\n",
       "    <tr>\n",
       "      <th>2514</th>\n",
       "      <td>2025-08-08</td>\n",
       "      <td>SPY</td>\n",
       "      <td>637.179993</td>\n",
       "      <td>632.181000</td>\n",
       "      <td>627.422666</td>\n",
       "      <td>1</td>\n",
       "      <td>0.007798</td>\n",
       "      <td>0.007798</td>\n",
       "    </tr>\n",
       "  </tbody>\n",
       "</table>\n",
       "<p>2486 rows × 8 columns</p>\n",
       "</div>"
      ],
      "text/plain": [
       "Price       Date Ticker       Close       MA_10       MA_30  Signal   Returns  \\\n",
       "29    2015-09-21    SPY  166.471680  166.330356  168.393545       0  0.005168   \n",
       "30    2015-09-22    SPY  164.310928  166.118614  167.953741       0 -0.012980   \n",
       "31    2015-09-23    SPY  164.048203  166.103145  167.558570       0 -0.001599   \n",
       "32    2015-09-24    SPY  163.455078  165.939009  167.136602       0 -0.003616   \n",
       "33    2015-09-25    SPY  163.412674  165.695604  166.720526       0 -0.000259   \n",
       "...          ...    ...         ...         ...         ...     ...       ...   \n",
       "2510  2025-08-04    SPY  631.169983  632.621997  623.947335       0  0.015200   \n",
       "2511  2025-08-05    SPY  627.969971  632.532996  624.874666       0 -0.005070   \n",
       "2512  2025-08-06    SPY  632.780029  632.389996  625.741333       1  0.007660   \n",
       "2513  2025-08-07    SPY  632.250000  632.172998  626.579000       1 -0.000838   \n",
       "2514  2025-08-08    SPY  637.179993  632.181000  627.422666       1  0.007798   \n",
       "\n",
       "Price  Strategy Returns  \n",
       "29             0.000000  \n",
       "30            -0.000000  \n",
       "31            -0.000000  \n",
       "32            -0.000000  \n",
       "33            -0.000000  \n",
       "...                 ...  \n",
       "2510           0.000000  \n",
       "2511          -0.000000  \n",
       "2512           0.000000  \n",
       "2513          -0.000838  \n",
       "2514           0.007798  \n",
       "\n",
       "[2486 rows x 8 columns]"
      ]
     },
     "execution_count": 3,
     "metadata": {},
     "output_type": "execute_result"
    }
   ],
   "source": [
    "df=df.stack().reset_index()\n",
    "df['MA_10']=df['Close'].rolling(10).mean()\n",
    "df['MA_30']=df['Close'].rolling(30).mean()\n",
    "\n",
    "df['Signal']=np.where((df['Close']>df['MA_10'])&(df['Close']>df['MA_30']),1,0)\n",
    "df['Returns']=(df['Close'].pct_change())\n",
    "df['Strategy Returns']=df['Returns']*df['Signal'].shift(1)\n",
    "df.dropna(inplace=True)\n",
    "df"
   ]
  },
  {
   "cell_type": "code",
   "execution_count": 4,
   "metadata": {},
   "outputs": [
    {
     "data": {
      "text/plain": [
       "<Axes: xlabel='Date'>"
      ]
     },
     "execution_count": 4,
     "metadata": {},
     "output_type": "execute_result"
    },
    {
     "data": {
      "image/png": "[encoded data removed]",
      "text/plain": [
       "<Figure size 640x480 with 1 Axes>"
      ]
     },
     "metadata": {},
     "output_type": "display_data"
    },
    {
     "data": {
      "image/png": "[encoded data removed]",
      "text/plain": [
       "<Figure size 640x480 with 1 Axes>"
      ]
     },
     "metadata": {},
     "output_type": "display_data"
    }
   ],
   "source": [
    "initial=1000\n",
    "df['Cummulative Returns']=(df['Strategy Returns']+1).cumprod()*initial\n",
    "df['Cummulative_max']=df['Cummulative Returns'].cummax()\n",
    "df.plot(x='Date',y='Cummulative Returns',kind='line')\n",
    "df['Drawdown']=(df['Cummulative Returns']/df['Cummulative_max'].cummax())-1\n",
    "df.plot(x='Date',y='Drawdown',kind='line',color='red')\n"
   ]
  },
  {
   "cell_type": "code",
   "execution_count": 5,
   "metadata": {},
   "outputs": [
    {
     "name": "stdout",
     "output_type": "stream",
     "text": [
      "Annualized Volatility: 8.78%\n",
      "Annualized Return: 8.74%\n",
      "Sharpe Ratio: 0.99\n"
     ]
    }
   ],
   "source": [
    "df['Strategy Returns'].describe()\n",
    "# Calculate the daily standard deviation of the strategy's returns\n",
    "daily_volatility = df['Strategy Returns'].std()\n",
    "\n",
    "# Annualize the volatility\n",
    "annualized_volatility = daily_volatility * np.sqrt(252)\n",
    "\n",
    "print(f\"Annualized Volatility: {annualized_volatility:.2%}\")\n",
    "# --- Step 1: Calculate Annualized Volatility (from above) ---\n",
    "annualized_volatility = df['Strategy Returns'].std() * np.sqrt(252)\n",
    "\n",
    "\n",
    "# --- Step 2: Calculate Annualized Return ---\n",
    "# Get the mean daily return\n",
    "mean_daily_return = df['Strategy Returns'].mean()\n",
    "\n",
    "# Annualize the return\n",
    "annualized_return = mean_daily_return * 252\n",
    "\n",
    "\n",
    "# --- Step 3: Calculate Sharpe Ratio ---\n",
    "# Set the risk-free rate (e.g., return on a U.S. Treasury bill). It's often set to 0 for simplicity.\n",
    "risk_free_rate = 0.0\n",
    "\n",
    "# Calculate the Sharpe Ratio\n",
    "if annualized_volatility != 0:\n",
    "    sharpe_ratio = (annualized_return - risk_free_rate) / annualized_volatility\n",
    "else:\n",
    "    sharpe_ratio = 0\n",
    "\n",
    "print(f\"Annualized Return: {annualized_return:.2%}\")\n",
    "print(f\"Sharpe Ratio: {sharpe_ratio:.2f}\")\n"
   ]
  },
  {
   "cell_type": "code",
   "execution_count": 6,
   "metadata": {},
   "outputs": [],
   "source": [
    "def run_backtest(price_series,initial_capital=1000):\n",
    "    df_bt=pd.DataFrame()\n",
    "    df_bt['Close']=price_series\n",
    "    df_bt['MA_10']=df_bt['Close'].rolling(10).mean()\n",
    "    df_bt['MA_30']=df_bt['Close'].rolling(30).mean()\n",
    "    df_bt['Signal']=np.where((df_bt['Close']>df_bt['MA_10'])&(df_bt['Close']>df_bt['MA_30']),1,0)\n",
    "    df_bt['Returns']=(df_bt['Close'].pct_change())\n",
    "    df_bt['Strategy Returns']=df_bt['Returns']*df_bt['Signal'].shift(1)\n",
    "    df_bt.dropna(inplace=True)\n",
    "    df_bt['Cummulative Returns']=(df_bt['Strategy Returns']+1).cumprod()*initial_capital\n",
    "    df_bt['Cummulative_max']=df_bt['Cummulative Returns'].cummax()\n",
    "    df_bt['Drawdown']=(df_bt['Cummulative Returns']/df_bt['Cummulative_max'].cummax())-1\n",
    "    return df_bt\n",
    "log_returns=np.log(df['Close']/df['Close'].shift(1)).dropna()"
   ]
  },
  {
   "cell_type": "code",
   "execution_count": 10,
   "metadata": {},
   "outputs": [
    {
     "name": "stdout",
     "output_type": "stream",
     "text": [
      "30     -0.013065\n",
      "31     -0.001600\n",
      "32     -0.003622\n",
      "33     -0.000259\n",
      "34     -0.025417\n",
      "          ...   \n",
      "2510    0.015085\n",
      "2511   -0.005083\n",
      "2512    0.007631\n",
      "2513   -0.000838\n",
      "2514    0.007767\n",
      "Name: Close, Length: 2485, dtype: float64\n"
     ]
    }
   ],
   "source": [
    "print(log_returns)"
   ]
  },
  {
   "cell_type": "code",
   "execution_count": 7,
   "metadata": {},
   "outputs": [
    {
     "data": {
      "text/plain": [
       "array([ 638.56742323,  639.8817299 ,  638.77934763, ..., 3237.1968273 ,\n",
       "       3234.11128973, 3238.29098271], shape=(2486,))"
      ]
     },
     "execution_count": 7,
     "metadata": {},
     "output_type": "execute_result"
    }
   ],
   "source": [
    "num_paths=5\n",
    "num_days=len(df)\n",
    " \n",
    "start_price=df['Close'].iloc[-1]\n",
    "simulated_paths=[]\n",
    "\n",
    "for _ in range(num_paths):\n",
    "    for _ in range(num_days):\n",
    "        random_number=np.random.choice(log_returns,size=num_days,replace=True)\n",
    "        path =start_price*np.exp(np.cumsum(random_number))\n",
    "        simulated_paths.append(path)\n",
    "simulated_paths[1]"
   ]
  },
  {
   "cell_type": "code",
   "execution_count": 8,
   "metadata": {},
   "outputs": [],
   "source": [
    "# import plotly.graph_objects as go\n",
    "# import plotly.express as px\n",
    "# from plotly.subplots import make_subplots\n",
    "# fig=go.Figure()\n",
    "# for path in simulated_paths:\n",
    "#     fig.add_trace(go.Scatter\n",
    "#                   (y=path,mode='lines',line=dict(color='blue',width=0.5)))\n",
    "# fig.update_layout(\n",
    "#     title='Monte Carlo Simulation',\n",
    "#     xaxis_title='Days',\n",
    "#     yaxis_title='Price',\n",
    "#     template='presentation',\n",
    "#     height=500\n",
    "# )\n",
    "# fig.show()\n"
   ]
  }
 ],
 "metadata": {
  "kernelspec": {
   "display_name": "3.10.13",
   "language": "python",
   "name": "python3"
  },
  "language_info": {
   "codemirror_mode": {
    "name": "ipython",
    "version": 3
   },
   "file_extension": ".py",
   "mimetype": "text/x-python",
   "name": "python",
   "nbconvert_exporter": "python",
   "pygments_lexer": "ipython3",
   "version": "3.10.13"
  }
 },
 "nbformat": 4,
 "nbformat_minor": 2
}
